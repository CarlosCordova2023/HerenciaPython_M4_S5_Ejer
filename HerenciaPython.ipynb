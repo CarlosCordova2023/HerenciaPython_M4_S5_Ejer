{
  "nbformat": 4,
  "nbformat_minor": 0,
  "metadata": {
    "colab": {
      "provenance": [],
      "authorship_tag": "ABX9TyPV60CB4oc/q1B5iy7F8pA1",
      "include_colab_link": true
    },
    "kernelspec": {
      "name": "python3",
      "display_name": "Python 3"
    },
    "language_info": {
      "name": "python"
    }
  },
  "cells": [
    {
      "cell_type": "markdown",
      "metadata": {
        "id": "view-in-github",
        "colab_type": "text"
      },
      "source": [
        "<a href=\"https://colab.research.google.com/github/CarlosCordova2023/HerenciaPython_M4_S5_Ejer/blob/main/HerenciaPython.ipynb\" target=\"_parent\"><img src=\"https://colab.research.google.com/assets/colab-badge.svg\" alt=\"Open In Colab\"/></a>"
      ]
    },
    {
      "cell_type": "code",
      "execution_count": 1,
      "metadata": {
        "colab": {
          "base_uri": "https://localhost:8080/"
        },
        "id": "8VXNGd-a_JOr",
        "outputId": "9036c13a-9d18-47c0-e9ab-0d4805d89f4d"
      },
      "outputs": [
        {
          "output_type": "stream",
          "name": "stdout",
          "text": [
            "Clase B\n",
            "Pertenezco a la clase A\n",
            "Método heredado de A\n",
            "Método heredado de B\n",
            "Método de clase C\n"
          ]
        }
      ],
      "source": [
        "class A:\n",
        "    def __init__(self):\n",
        "        print(\"Pertenezco a la clase A\")\n",
        "\n",
        "    def metodo_a(self):\n",
        "        print(\"Método heredado de A\")\n",
        "\n",
        "class B:\n",
        "    def __init__(self):\n",
        "        print(\"Clase B\")\n",
        "\n",
        "    def metodo_b(self):\n",
        "        print(\"Método heredado de B\")\n",
        "\n",
        "class C(B, A):\n",
        "    def __init__(self):\n",
        "\n",
        "        B.__init__(self)\n",
        "\n",
        "        A.__init__(self)\n",
        "\n",
        "    def metodo_c(self):\n",
        "        print(\"Método de clase C\")\n",
        "\n",
        "# Crear una instancia de la clase C\n",
        "objeto_c = C()\n",
        "\n",
        "\n",
        "objeto_c.metodo_a()\n",
        "objeto_c.metodo_b()\n",
        "objeto_c.metodo_c()\n"
      ]
    }
  ]
}